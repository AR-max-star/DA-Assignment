{
  "nbformat": 4,
  "nbformat_minor": 0,
  "metadata": {
    "colab": {
      "provenance": [],
      "authorship_tag": "ABX9TyP66nMKOC5iDmNmJBDf/yl0",
      "include_colab_link": true
    },
    "kernelspec": {
      "name": "python3",
      "display_name": "Python 3"
    },
    "language_info": {
      "name": "python"
    }
  },
  "cells": [
    {
      "cell_type": "markdown",
      "metadata": {
        "id": "view-in-github",
        "colab_type": "text"
      },
      "source": [
        "<a href=\"https://colab.research.google.com/github/AR-max-star/function-assignment/blob/main/Untitled5.ipynb\" target=\"_parent\"><img src=\"https://colab.research.google.com/assets/colab-badge.svg\" alt=\"Open In Colab\"/></a>"
      ]
    },
    {
      "cell_type": "code",
      "execution_count": 36,
      "metadata": {
        "id": "D07kk4IZS10U"
      },
      "outputs": [],
      "source": [
        "\n",
        "def sum_of_even_numbers(num):\n",
        "  new_list = []\n",
        "\n",
        "\n",
        "  for i in num:\n",
        "    if i%2==0:\n",
        "\n",
        "      new_list.append(i)\n",
        "  return sum(new_list)\n"
      ]
    },
    {
      "cell_type": "markdown",
      "source": [
        "\n",
        "\n",
        "1.   List item\n",
        "\n",
        "*   List item\n",
        "\n",
        "*   List item\n",
        "\n",
        "1.   List item\n",
        "\n",
        "---\n",
        "\n",
        "\n",
        "\n",
        "---\n",
        "\n",
        "\\:\n",
        "2.   List item\n",
        "\n",
        "\n",
        "*   List item\n",
        "\n",
        "\n",
        "*   List item\n",
        "\n",
        "\n",
        "2.   List item\n",
        "\n"
      ],
      "metadata": {
        "id": "N_TPpfqL8ZTH"
      }
    },
    {
      "cell_type": "code",
      "source": [
        "num = [14,15,4,6,4,7,11]\n",
        "sum_of_even_numbers(num)"
      ],
      "metadata": {
        "colab": {
          "base_uri": "https://localhost:8080/"
        },
        "id": "ImE_ZYaNoiJ3",
        "outputId": "5f536f08-1227-42f7-a872-6ab7578578e2"
      },
      "execution_count": 37,
      "outputs": [
        {
          "output_type": "execute_result",
          "data": {
            "text/plain": [
              "28"
            ]
          },
          "metadata": {},
          "execution_count": 37
        }
      ]
    },
    {
      "cell_type": "code",
      "source": [],
      "metadata": {
        "id": "LodzUhuR1xmD"
      },
      "execution_count": null,
      "outputs": []
    },
    {
      "cell_type": "code",
      "source": [
        "ran_str = \"Arpit\"\n",
        "ran_str[::-1]\n"
      ],
      "metadata": {
        "colab": {
          "base_uri": "https://localhost:8080/",
          "height": 36
        },
        "id": "Qk-9uKmv1Yxl",
        "outputId": "f73a55e2-08c2-4ff6-8f32-6b31b57de20c"
      },
      "execution_count": 39,
      "outputs": [
        {
          "output_type": "execute_result",
          "data": {
            "text/plain": [
              "'tiprA'"
            ],
            "application/vnd.google.colaboratory.intrinsic+json": {
              "type": "string"
            }
          },
          "metadata": {},
          "execution_count": 39
        }
      ]
    },
    {
      "cell_type": "code",
      "source": [
        "random_list=[7,8,4,3,2]\n",
        "for i in random_list:\n",
        "  sq_num=i**2\n",
        " # print(sq_num , end= \", \")"
      ],
      "metadata": {
        "colab": {
          "base_uri": "https://localhost:8080/"
        },
        "id": "O1osS21W137Q",
        "outputId": "cbfd6971-386d-4fde-f38c-ecbe0038a4a6"
      },
      "execution_count": 58,
      "outputs": [
        {
          "output_type": "stream",
          "name": "stdout",
          "text": [
            "49, 64, 16, 9, 4, "
          ]
        }
      ]
    },
    {
      "cell_type": "code",
      "source": [
        "prime_number=0\n",
        "for i in range(1,200):\n",
        "  if"
      ],
      "metadata": {
        "id": "hBLEW_y2AGsn"
      },
      "execution_count": null,
      "outputs": []
    }
  ]
}